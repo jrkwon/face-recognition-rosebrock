{
 "cells": [
  {
   "cell_type": "markdown",
   "id": "99550a2e-4cf4-4735-88a9-8e33b77ec970",
   "metadata": {},
   "source": [
    "# Face recognition - Install Packages\n",
    "Sources: \n",
    "- https://pyimagesearch.com/2018/06/18/face-recognition-with-opencv-python-and-deep-learning/\n",
    "- https://github.com/JNYH/Face_Recognition"
   ]
  },
  {
   "cell_type": "markdown",
   "id": "3ec1bb39",
   "metadata": {},
   "source": [
    "## Install `face_recognition`"
   ]
  },
  {
   "cell_type": "code",
   "execution_count": 25,
   "id": "a7ad0e35-4a0a-465c-a36d-14def37f9120",
   "metadata": {
    "collapsed": true,
    "jupyter": {
     "outputs_hidden": true
    },
    "tags": []
   },
   "outputs": [
    {
     "name": "stdout",
     "output_type": "stream",
     "text": [
      "Collecting package metadata (current_repodata.json): done\n",
      "Solving environment: done\n",
      "\n",
      "# All requested packages already installed.\n",
      "\n",
      "Retrieving notices: ...working... done\n",
      "\n",
      "Note: you may need to restart the kernel to use updated packages.\n"
     ]
    }
   ],
   "source": [
    "conda install -c conda-forge face_recognition"
   ]
  },
  {
   "cell_type": "markdown",
   "id": "d96b6f94",
   "metadata": {},
   "source": [
    "## Replace `dlib` with `dlib-cuda (GPU support)`"
   ]
  },
  {
   "cell_type": "code",
   "execution_count": 26,
   "id": "70216579",
   "metadata": {},
   "outputs": [
    {
     "name": "stdout",
     "output_type": "stream",
     "text": [
      "Collecting package metadata (current_repodata.json): done\n",
      "Solving environment: done\n",
      "\n",
      "# All requested packages already installed.\n",
      "\n",
      "Retrieving notices: ...working... done\n",
      "\n",
      "Note: you may need to restart the kernel to use updated packages.\n"
     ]
    }
   ],
   "source": [
    "conda install -c zeroae dlib-cuda # dlib gpu version"
   ]
  },
  {
   "cell_type": "markdown",
   "id": "b23917c3",
   "metadata": {},
   "source": [
    "## Install `imutils`"
   ]
  },
  {
   "cell_type": "code",
   "execution_count": 27,
   "id": "cd406f18-be48-4ad3-b81c-6f4f0a96889a",
   "metadata": {},
   "outputs": [
    {
     "name": "stdout",
     "output_type": "stream",
     "text": [
      "Requirement already satisfied: imutils in /home/jaerock/anaconda3/envs/face-recognition/lib/python3.7/site-packages (0.5.4)\n"
     ]
    }
   ],
   "source": [
    "!pip install imutils"
   ]
  }
 ],
 "metadata": {
  "kernelspec": {
   "display_name": "Python 3.7.15 ('face-recognition-rosebrock')",
   "language": "python",
   "name": "python3"
  },
  "language_info": {
   "codemirror_mode": {
    "name": "ipython",
    "version": 3
   },
   "file_extension": ".py",
   "mimetype": "text/x-python",
   "name": "python",
   "nbconvert_exporter": "python",
   "pygments_lexer": "ipython3",
   "version": "3.7.15"
  },
  "toc-autonumbering": true,
  "toc-showcode": false,
  "toc-showmarkdowntxt": false,
  "toc-showtags": false,
  "vscode": {
   "interpreter": {
    "hash": "897b047b4988d61cc7e804a1f7c6e3bc5d1d1b9c7532c727cddae117bff4dc3f"
   }
  }
 },
 "nbformat": 4,
 "nbformat_minor": 5
}
